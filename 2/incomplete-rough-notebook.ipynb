{
 "cells": [
  {
   "cell_type": "code",
   "execution_count": null,
   "metadata": {},
   "outputs": [],
   "source": [
    "import pandas as pd\n",
    "import numpy as np"
   ]
  },
  {
   "cell_type": "code",
   "execution_count": 104,
   "metadata": {},
   "outputs": [
    {
     "data": {
      "text/html": [
       "<div>\n",
       "<style scoped>\n",
       "    .dataframe tbody tr th:only-of-type {\n",
       "        vertical-align: middle;\n",
       "    }\n",
       "\n",
       "    .dataframe tbody tr th {\n",
       "        vertical-align: top;\n",
       "    }\n",
       "\n",
       "    .dataframe thead th {\n",
       "        text-align: right;\n",
       "    }\n",
       "</style>\n",
       "<table border=\"1\" class=\"dataframe\">\n",
       "  <thead>\n",
       "    <tr style=\"text-align: right;\">\n",
       "      <th></th>\n",
       "      <th>Sky</th>\n",
       "      <th>Temp</th>\n",
       "      <th>Hum</th>\n",
       "      <th>Wind</th>\n",
       "      <th>Water</th>\n",
       "      <th>Forecast</th>\n",
       "      <th>EnjoySport</th>\n",
       "    </tr>\n",
       "  </thead>\n",
       "  <tbody>\n",
       "    <tr>\n",
       "      <th>0</th>\n",
       "      <td>Sunny</td>\n",
       "      <td>Warm</td>\n",
       "      <td>Normal</td>\n",
       "      <td>Strong</td>\n",
       "      <td>Warm</td>\n",
       "      <td>Same</td>\n",
       "      <td>P</td>\n",
       "    </tr>\n",
       "    <tr>\n",
       "      <th>1</th>\n",
       "      <td>Sunny</td>\n",
       "      <td>Warm</td>\n",
       "      <td>High</td>\n",
       "      <td>Strong</td>\n",
       "      <td>Warm</td>\n",
       "      <td>Same</td>\n",
       "      <td>P</td>\n",
       "    </tr>\n",
       "    <tr>\n",
       "      <th>2</th>\n",
       "      <td>Rainy</td>\n",
       "      <td>Cold</td>\n",
       "      <td>High</td>\n",
       "      <td>Strong</td>\n",
       "      <td>Warm</td>\n",
       "      <td>Change</td>\n",
       "      <td>N</td>\n",
       "    </tr>\n",
       "    <tr>\n",
       "      <th>3</th>\n",
       "      <td>Sunny</td>\n",
       "      <td>Warm</td>\n",
       "      <td>High</td>\n",
       "      <td>Strong</td>\n",
       "      <td>Cool</td>\n",
       "      <td>Change</td>\n",
       "      <td>P</td>\n",
       "    </tr>\n",
       "  </tbody>\n",
       "</table>\n",
       "</div>"
      ],
      "text/plain": [
       "     Sky  Temp     Hum    Wind Water Forecast EnjoySport\n",
       "0  Sunny  Warm  Normal  Strong  Warm     Same          P\n",
       "1  Sunny  Warm    High  Strong  Warm     Same          P\n",
       "2  Rainy  Cold    High  Strong  Warm   Change          N\n",
       "3  Sunny  Warm    High  Strong  Cool   Change          P"
      ]
     },
     "execution_count": 104,
     "metadata": {},
     "output_type": "execute_result"
    }
   ],
   "source": [
    "df = pd.DataFrame(pd.read_csv('F:/Machine-Learning-w-venv/ML-lab/2/Data2.csv'))\n",
    "df"
   ]
  },
  {
   "cell_type": "code",
   "execution_count": 105,
   "metadata": {},
   "outputs": [],
   "source": [
    "attr = list(df.columns)\n",
    "class_label = str(attr[len(attr)-1])\n",
    "class_index = len(attr)-1"
   ]
  },
  {
   "cell_type": "code",
   "execution_count": 106,
   "metadata": {},
   "outputs": [
    {
     "name": "stdout",
     "output_type": "stream",
     "text": [
      "[[['?', '?', '?', '?', '?', '?']]]\n"
     ]
    }
   ],
   "source": [
    "#Specific and General Hypothesis to be initialised\n",
    "\n",
    "S0 = [ '%' for i in range(len(attr)-1) ]\n",
    "temp0 = [ '?' for i in range(len(attr)-1) ]\n",
    "G0 = []\n",
    "G0.append(temp0)\n",
    "\n",
    "#specify lists to hold updated versions of G and S\n",
    "G = []\n",
    "S = []\n",
    "G.append(G0)\n",
    "S.append(S0)\n",
    "print(G)\n"
   ]
  },
  {
   "cell_type": "code",
   "execution_count": 107,
   "metadata": {},
   "outputs": [],
   "source": [
    "#function to check for consistency of S and G hypotheses when S gets updated, it is used to eliminate candidates in latest General hypothesis that is inconsistent with training set instance\n",
    "\n",
    "def consistent(S,G):\n",
    "    last_G = G[-1]\n",
    "    print(last_G)\n",
    "    last_S = S[-1]\n",
    "    print(last_S)\n",
    "    if len(last_G) > 1:\n",
    "        for g_hyp in last_G:\n",
    "            print(\"YOOOO G_HYP\")\n",
    "            print(g_hyp)\n",
    "            for i in range(len(g_hyp)):\n",
    "                if g_hyp[i]!='?' and g_hyp[i] != last_S[i]:\n",
    "                    del g_hyp\n",
    "    \n",
    "    return G"
   ]
  },
  {
   "cell_type": "code",
   "execution_count": null,
   "metadata": {},
   "outputs": [
    {
     "name": "stdout",
     "output_type": "stream",
     "text": [
      "[[['?', '?', '?', '?', '?', '?']], [['?', '?', '?', '?', '?', '?']], [['?', '?', '?', '?', '?', '?']]]\n",
      "[['?', '?', '?', '?', '?', '?']]\n",
      "['Sunny', 'Warm', '?', 'Strong', 'Warm', 'Same']\n"
     ]
    }
   ],
   "source": [
    "for index, row in df.iterrows():\n",
    "    row = list(row)\n",
    "    if row[class_index] == 'P':\n",
    "        #if its first training example, comparing with % attr and updating S \n",
    "        if S[len(S)-1][0] == '%':\n",
    "            S.append(row[:-1])\n",
    "            G.append(G[-1])\n",
    "            #print(G)\n",
    "            \n",
    "        else:\n",
    "            for i in range(len(row)-1):\n",
    "                if S[-1][i] != row[i]:\n",
    "                    row[i] = '?'\n",
    "            S.append(row[:-1])\n",
    "            G.append(G[-1])\n",
    "            print(G)\n",
    "            #check for consistency\n",
    "            G = consistent(S,G)\n",
    "    \n",
    "    elif row[class_index] == 'N':\n",
    "        tmp1 = []\n",
    "        tmp2 = temp0\n",
    "        i = 0\n",
    "        while i < (len(row)-1):\n",
    "            if row[i] != S[-1][i] and S[-1][i] != '?':\n",
    "                tmp2[i] = S[-1][i]\n",
    "                tmp1.append(tmp2)\n",
    "                i+=1\n",
    "            elif S[-1][i] == '?':\n",
    "                i+=1\n",
    "        tmp1.append(tmp2)\n",
    "        S.append(S[-1])\n",
    "        G.append(tmp1)\n",
    "        print(\"For negative instance\")\n",
    "        print(G)\n",
    "     "
   ]
  },
  {
   "cell_type": "code",
   "execution_count": null,
   "metadata": {},
   "outputs": [],
   "source": [
    "#print out S and G hypothesis boundaries at each step of algo\n",
    "\n",
    "print(\"BOUNDARIES OF Specfic and General Hypothesis at each step :\")\n",
    "for i in range(0,len(S)):\n",
    "    print(\"S\"+str(i)+\":\")\n",
    "    print(S[i])\n",
    "    print(\"G\"+str(i)+\":\")\n",
    "    print(G[i])\n"
   ]
  },
  {
   "cell_type": "code",
   "execution_count": null,
   "metadata": {},
   "outputs": [],
   "source": []
  }
 ],
 "metadata": {
  "kernelspec": {
   "display_name": "Python 3",
   "language": "python",
   "name": "python3"
  },
  "language_info": {
   "codemirror_mode": {
    "name": "ipython",
    "version": 3
   },
   "file_extension": ".py",
   "mimetype": "text/x-python",
   "name": "python",
   "nbconvert_exporter": "python",
   "pygments_lexer": "ipython3",
   "version": "3.6.7"
  }
 },
 "nbformat": 4,
 "nbformat_minor": 2
}
